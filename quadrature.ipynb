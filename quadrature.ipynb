{
 "cells": [
  {
   "cell_type": "markdown",
   "id": "78b28447-b729-46d5-aa42-30bff82cfca6",
   "metadata": {},
   "source": [
    "# Simpson’s quadrature"
   ]
  },
  {
   "cell_type": "markdown",
   "id": "6b924411-8585-40a6-a2f4-b3b84358aedb",
   "metadata": {},
   "source": [
    "Simpson’s quadrature used for numerical evaluation of integrals, is as follows:\n",
    "\n",
    "$$    \n",
    "\\int\\limits_a^b f(x) \\, \\mathrm{d}x \\approx \n",
    "your-markdown-here\n",
    "$$\n",
    "where\n",
    "$$h = your-markdown-here,$$\n",
    "$$x_i = your-markdown-here, \\quad i = 1, \\ldots, n \\; ,$$\n",
    "and $p$ is the order of accuracy of the quadrature. Note that the\n",
    "number of nodes, $n$, is an odd number larger than 3."
   ]
  },
  {
   "cell_type": "code",
   "execution_count": null,
   "id": "3db3b307",
   "metadata": {},
   "outputs": [],
   "source": [
    "\n",
    "using PyPlot"
   ]
  },
  {
   "cell_type": "code",
   "execution_count": null,
   "id": "98a12266",
   "metadata": {},
   "outputs": [],
   "source": [
    "\n",
    "\"\"\"\n",
    "    res = mysimpsons(fun, a, b, n)\n",
    "\n",
    "Evaluate the numerical value of the integral of a julia function of a single argument, `fun`, \n",
    "between the integration limits `a` and `b`, using `n` nodes.\n",
    "\"\"\"\n",
    "function mysimpsons(fun, a, b, n)\n",
    "    # your code here    \n",
    "end"
   ]
  },
  {
   "cell_type": "markdown",
   "id": "c2425c7c-be1e-4cd3-b496-67b7ea67f6d6",
   "metadata": {},
   "source": [
    "### Testing"
   ]
  },
  {
   "cell_type": "code",
   "execution_count": null,
   "id": "e4c30c88",
   "metadata": {},
   "outputs": [],
   "source": [
    "fun1(x) = exp(x)\n",
    "a = 0.0\n",
    "b = 1.0\n",
    "n = 11\n",
    "exact = exp(1) - 1.0\n",
    "mysimpsons(fun1, a, b, n) - exact"
   ]
  },
  {
   "cell_type": "code",
   "execution_count": null,
   "id": "62d6a52d",
   "metadata": {},
   "outputs": [],
   "source": [
    "fun2(x) = x^2\n",
    "a = 1.0\n",
    "b = 2.0\n",
    "n = 11\n",
    "exact = 7/3\n",
    "mysimpsons(fun2, a, b, n) - exact"
   ]
  },
  {
   "cell_type": "markdown",
   "id": "4142391d-a2ab-47c8-a52d-3f13384a15ac",
   "metadata": {},
   "source": [
    "### Accuracy of Simpson's formula"
   ]
  },
  {
   "cell_type": "code",
   "execution_count": null,
   "id": "0161ea9b",
   "metadata": {},
   "outputs": [],
   "source": [
    "fun0(x) = sin(x)\n",
    "a = 0.0\n",
    "b = pi\n",
    "exact = 2.0\n",
    "ndp = 10\n",
    "err = zeros(ndp)\n",
    "hh = zeros(ndp);"
   ]
  },
  {
   "cell_type": "code",
   "execution_count": null,
   "id": "aea97c25",
   "metadata": {},
   "outputs": [],
   "source": [
    "for i = 1:ndp\n",
    "    n = 2^i + 1\n",
    "    hh[i] = (b - a)/(n - 1)\n",
    "    err[i] = # your code here\n",
    "end"
   ]
  },
  {
   "cell_type": "code",
   "execution_count": null,
   "id": "c985807c",
   "metadata": {},
   "outputs": [],
   "source": [
    "loglog(hh, err, marker=\".\", label=\"Simpson's\")\n",
    "loglog(hh, hh .^ , linestyle=\"dashed\", label=L\"h^4\")\n"
   ]
  },
  {
   "cell_type": "code",
   "execution_count": null,
   "id": "93ae1968",
   "metadata": {},
   "outputs": [],
   "source": []
  }
 ],
 "metadata": {
  "kernelspec": {
   "display_name": "Julia 1.10.5",
   "language": "julia",
   "name": "julia-1.10"
  },
  "language_info": {
   "file_extension": ".jl",
   "mimetype": "application/julia",
   "name": "julia",
   "version": "1.10.5"
  }
 },
 "nbformat": 4,
 "nbformat_minor": 5
}
